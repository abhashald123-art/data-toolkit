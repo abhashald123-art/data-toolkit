{
 "cells": [
  {
   "cell_type": "code",
   "execution_count": null,
   "id": "355aceda-5319-4fb0-abbf-0ecdeae4a306",
   "metadata": {},
   "outputs": [],
   "source": [
    "# 1 What is NumPy, and why is it widely used in Python?\n",
    "\"\"\"\n",
    "NumPy is a Python library for numerical computing, widely used for its fast multidimensional arrays and mathematical operations\n",
    "\"\"\""
   ]
  },
  {
   "cell_type": "code",
   "execution_count": null,
   "id": "5fb92f75-4617-44c3-b558-538291ae4a5b",
   "metadata": {},
   "outputs": [],
   "source": [
    "# 2  How does broadcasting work in NumPy?\n",
    "\"\"\"\n",
    "Broadcasting allows NumPy to perform operations on arrays of different shapes by automatically expanding dimensions\n",
    "\"\"\""
   ]
  },
  {
   "cell_type": "code",
   "execution_count": null,
   "id": "abb7cf96-803f-4c3f-9c87-453271a6161a",
   "metadata": {},
   "outputs": [],
   "source": [
    "# 3 What is a Pandas DataFrame?\n",
    "\"\"\"\n",
    "A Pandas DataFrame is a 2D labeled data structure like a table with rows and columns\n",
    "\"\"\""
   ]
  },
  {
   "cell_type": "code",
   "execution_count": null,
   "id": "cae190d6-42ca-4bc0-b41a-1d05c1294f55",
   "metadata": {},
   "outputs": [],
   "source": [
    "# 4 Explain the use of the groupby() method in Pandas?\n",
    "\"\"\"\n",
    "The groupby() method is used to split data into groups and perform operations like sum, mean, or count on them\n",
    "\"\"\"\n"
   ]
  },
  {
   "cell_type": "code",
   "execution_count": null,
   "id": "9ab6e844-9c4d-4694-91d7-9991aea0d532",
   "metadata": {},
   "outputs": [],
   "source": [
    "# 5 Why is Seaborn preferred for statistical visualizations?\n",
    "\"\"\"\n",
    "Seaborn is preferred for statistical visualization because it provides high-level, attractive, and informative charts easily\n",
    "\"\"\""
   ]
  },
  {
   "cell_type": "code",
   "execution_count": null,
   "id": "5391beb6-1fa4-49e8-a34b-04084997b096",
   "metadata": {},
   "outputs": [],
   "source": [
    "# 6 What are the differences between NumPy arrays and Python lists?\n",
    "\"\"\"\n",
    "NumPy arrays are fixed-type, efficient, and support vectorized operations, while Python lists are slower and can store mixed data\n",
    "\"\"\""
   ]
  },
  {
   "cell_type": "code",
   "execution_count": null,
   "id": "b78f6c25-b384-405f-908b-21f90dcb21e7",
   "metadata": {},
   "outputs": [],
   "source": [
    "# 7 What is a heatmap, and when should it be used?\n",
    "\"\"\"\n",
    "A heatmap shows data values in a matrix using color; it’s useful for correlations or large data patterns\n",
    "\"\"\""
   ]
  },
  {
   "cell_type": "code",
   "execution_count": null,
   "id": "c6e6564e-4f7b-4e5c-afd1-6896e2854abe",
   "metadata": {},
   "outputs": [],
   "source": [
    "# 8 What does the term “vectorized operation” mean in NumPy?\n",
    "\"\"\"\n",
    "A vectorized operation applies a function on entire arrays without explicit loops, improving performance\n",
    "\"\"\"\n"
   ]
  },
  {
   "cell_type": "code",
   "execution_count": null,
   "id": "a0b487ce-3ef5-4536-ab02-be6bb6febc2a",
   "metadata": {},
   "outputs": [],
   "source": [
    "# 9 How does Matplotlib differ from Plotly?\n",
    "\"\"\"\n",
    "Matplotlib is static and customizable, while Plotly is interactive and better for dashboards\n",
    "\"\"\""
   ]
  },
  {
   "cell_type": "code",
   "execution_count": null,
   "id": "44996fbf-9120-4579-b60d-4bea265d5823",
   "metadata": {},
   "outputs": [],
   "source": [
    "# 10 What is the significance of hierarchical indexing in Pandas?\n",
    "\"\"\"\n",
    "Hierarchical indexing in Pandas allows multiple levels of indexes for rows/columns, enabling complex data organization\n",
    "\"\"\""
   ]
  },
  {
   "cell_type": "code",
   "execution_count": null,
   "id": "157119f4-eb0b-448e-8ba4-adeebfb71493",
   "metadata": {},
   "outputs": [],
   "source": [
    "# 11 What is the role of Seaborn’s pairplot() function?\n",
    "\"\"\"\n",
    "pairplot() in Seaborn plots pairwise relationships and distributions across multiple variables in a dataset\n",
    "\"\"\""
   ]
  },
  {
   "cell_type": "code",
   "execution_count": null,
   "id": "be72ca78-70c3-4138-a627-42136168cb7f",
   "metadata": {},
   "outputs": [],
   "source": [
    "# 12 What is the purpose of the describe() function in Pandas?\n",
    "\"\"\"\n",
    "describe() in Pandas provides summary statistics like mean, median, min, max, and percentiles of a DataFrame\n",
    "\"\"\""
   ]
  },
  {
   "cell_type": "code",
   "execution_count": null,
   "id": "5890b44e-4930-4d03-9543-df25e523211a",
   "metadata": {},
   "outputs": [],
   "source": [
    "# 13  Why is handling missing data important in Pandas?\n",
    "\"\"\"\n",
    "Handling missing data is crucial to avoid biased analysis and incorrect model training\n",
    "\"\"\""
   ]
  },
  {
   "cell_type": "code",
   "execution_count": null,
   "id": "37e5ccad-238b-495e-9f25-9addfd8f476d",
   "metadata": {},
   "outputs": [],
   "source": [
    "# 14 What are the benefits of using Plotly for data visualization?\n",
    "\"\"\"\n",
    "Plotly offers interactive, zoomable, and shareable plots, making it useful for dynamic visualization\n",
    "\"\"\"\n"
   ]
  },
  {
   "cell_type": "code",
   "execution_count": null,
   "id": "cf378a2e-3c6e-4ef1-bd95-1b0aaf91c6af",
   "metadata": {},
   "outputs": [],
   "source": [
    "# 15  How does NumPy handle multidimensional arrays?\n",
    "\"\"\"\n",
    "NumPy efficiently handles multidimensional arrays (N-D arrays) with operations across multiple axes\n",
    "\"\"\""
   ]
  },
  {
   "cell_type": "code",
   "execution_count": null,
   "id": "3c8ff460-8d5e-4d86-9df0-2c6daef27e01",
   "metadata": {},
   "outputs": [],
   "source": [
    "# 16 What is the role of Bokeh in data visualization?\n",
    "\"\"\"\n",
    "Bokeh is a Python library for creating interactive and scalable visualizations for web applications\n",
    "\"\"\""
   ]
  },
  {
   "cell_type": "code",
   "execution_count": null,
   "id": "c71f709c-bd3e-4f33-84ef-5ac8aa746f44",
   "metadata": {},
   "outputs": [],
   "source": [
    "# 17 Explain the difference between apply() and map() in Pandas?\n",
    "\"\"\"\n",
    "apply() applies a function along rows/columns of a DataFrame, while map() applies element-wise to Series\n",
    "\"\"\"\n"
   ]
  },
  {
   "cell_type": "code",
   "execution_count": null,
   "id": "171adc80-e94d-4261-b224-78095838f18d",
   "metadata": {},
   "outputs": [],
   "source": [
    "# 18 What are some advanced features of NumPy?\n",
    "\"\"\"\n",
    "Advanced NumPy features include broadcasting, linear algebra, FFT, random number generation, and masked arrays\n",
    "\"\"\""
   ]
  },
  {
   "cell_type": "code",
   "execution_count": null,
   "id": "57eb2876-7719-449e-bb10-86ce89c42876",
   "metadata": {},
   "outputs": [],
   "source": [
    "# 19  How does Pandas simplify time series analysis?\n",
    "\"\"\"\n",
    "Pandas simplifies time series analysis with built-in functions for date parsing, resampling, shifting, and rolling windows\n",
    "\"\"\""
   ]
  },
  {
   "cell_type": "code",
   "execution_count": null,
   "id": "b1077324-f15f-4a52-834e-f23b20d30040",
   "metadata": {},
   "outputs": [],
   "source": [
    "# 20 What is the role of a pivot table in Pandas?\n",
    "\"\"\"\n",
    "A pivot table summarizes data by grouping and aggregating values, useful for quick analysis\n",
    "\"\"\""
   ]
  },
  {
   "cell_type": "code",
   "execution_count": null,
   "id": "8c31fe8f-3a54-4fd9-b443-8fa54e45001d",
   "metadata": {},
   "outputs": [],
   "source": [
    "# 21 Why is NumPy’s array slicing faster than Python’s list slicing?\n",
    "\"\"\"\n",
    "NumPy slicing is faster because arrays are stored in contiguous memory, unlike Python lists\n",
    "\"\"\""
   ]
  },
  {
   "cell_type": "code",
   "execution_count": null,
   "id": "147e1ec9-f2d6-4640-9c4c-f32dfe5789b7",
   "metadata": {},
   "outputs": [],
   "source": [
    "# 22  What are some common use cases for Seaborn?\n",
    "\"\"\"\n",
    "Common Seaborn use cases include visualizing distributions, categorical data, correlations, and statistical trends\n",
    "\"\"\""
   ]
  },
  {
   "cell_type": "code",
   "execution_count": null,
   "id": "3d052772-42c0-463f-b087-144ecb4f10f0",
   "metadata": {},
   "outputs": [],
   "source": [
    "# 1  How do you create a 2D NumPy array and calculate the sum of each row?\n",
    "\n",
    "import numpy as np\n",
    "arr = np.array([[1,2,3],[4,5,6],[7,8,9]])\n",
    "row_sum = arr.sum(axis=1)\n",
    "row_sum\n"
   ]
  },
  {
   "cell_type": "code",
   "execution_count": null,
   "id": "349a8702-e437-4beb-a267-8eb16c9b50f2",
   "metadata": {},
   "outputs": [],
   "source": [
    "# 2  Write a Pandas script to find the mean of a specific column in a DataFrame\n",
    "\n",
    "import pandas as pd\n",
    "df = pd.DataFrame({\"A\":[10,20,30],\"B\":[5,15,25]})\n",
    "mean_val = df[\"B\"].mean()\n",
    "mean_val\n"
   ]
  },
  {
   "cell_type": "code",
   "execution_count": null,
   "id": "c00b7c35-2980-4cfc-8f2b-36c15577b3de",
   "metadata": {},
   "outputs": [],
   "source": [
    "# 3 Create a scatter plot using Matplotlib\n",
    "\n",
    "import matplotlib.pyplot as plt\n",
    "x = [1,2,3,4,5]\n",
    "y = [2,4,6,8,10]\n",
    "plt.scatter(x,y)\n",
    "plt.xlabel(\"X-axis\")\n",
    "plt.ylabel(\"Y-axis\")\n",
    "plt.title(\"Scatter Plot\")\n",
    "plt.show()\n"
   ]
  },
  {
   "cell_type": "code",
   "execution_count": null,
   "id": "b96c0e24-46d7-4e58-a77c-9ebc22dead00",
   "metadata": {},
   "outputs": [],
   "source": [
    "# 4  How do you calculate the correlation matrix using Seaborn and visualize it with a heatmap\n",
    "\n",
    "import seaborn as sns\n",
    "corr = df.corr()\n",
    "sns.heatmap(corr, annot=True, cmap=\"coolwarm\")\n",
    "plt.show()\n"
   ]
  },
  {
   "cell_type": "code",
   "execution_count": null,
   "id": "1a9bc277-7001-418b-8726-b1e7c42c4335",
   "metadata": {},
   "outputs": [],
   "source": [
    "# 5 Generate a bar plot using Plotly\n",
    "\n",
    "import plotly.express as px\n",
    "data = {\"Names\":[\"A\",\"B\",\"C\"], \"Scores\":[85,90,78]}\n",
    "fig = px.bar(data, x=\"Names\", y=\"Scores\", title=\"Bar Plot\")\n",
    "fig.show()\n"
   ]
  },
  {
   "cell_type": "code",
   "execution_count": null,
   "id": "1e2ea596-dfdc-48b5-a2d6-112c3f1c7e44",
   "metadata": {},
   "outputs": [],
   "source": [
    "# 6  Create a DataFrame and add a new column based on an existing column\n",
    "\n",
    "df[\"C\"] = df[\"A\"] + df[\"B\"]\n",
    "df\n"
   ]
  },
  {
   "cell_type": "code",
   "execution_count": null,
   "id": "93abc522-a1bb-47e4-866c-ef05c7142dcb",
   "metadata": {},
   "outputs": [],
   "source": [
    "# 7 Write a program to perform element-wise multiplication of two NumPy arrays\n",
    "\n",
    "a = np.array([1,2,3])\n",
    "b = np.array([4,5,6])\n",
    "product = a * b\n",
    "product\n"
   ]
  },
  {
   "cell_type": "code",
   "execution_count": null,
   "id": "494a1c0d-661e-4edd-a3d8-8b88979e1130",
   "metadata": {},
   "outputs": [],
   "source": [
    "# 8 Create a line plot with multiple lines using Matplotlib\n",
    "\n",
    "x = [1,2,3,4,5]\n",
    "y1 = [2,4,6,8,10]\n",
    "y2 = [1,3,5,7,9]\n",
    "plt.plot(x,y1,label=\"Line 1\")\n",
    "plt.plot(x,y2,label=\"Line 2\")\n",
    "plt.legend()\n",
    "plt.show()\n"
   ]
  },
  {
   "cell_type": "code",
   "execution_count": null,
   "id": "7704f093-fea4-43be-9624-eb9e4e5cf3c6",
   "metadata": {},
   "outputs": [],
   "source": [
    "# 9  Generate a Pandas DataFrame and filter rows where a column value is greater than a threshold\n",
    "\n",
    "filtered = df[df[\"B\"] > 10]\n",
    "filtered\n"
   ]
  },
  {
   "cell_type": "code",
   "execution_count": null,
   "id": "73a3ae33-1caf-4d21-94d4-8b319437d50f",
   "metadata": {},
   "outputs": [],
   "source": [
    "# 10 Create a histogram using Seaborn to visualize a distribution\n",
    "\n",
    "sns.histplot(df[\"A\"], bins=5, kde=True)\n",
    "plt.show()\n"
   ]
  },
  {
   "cell_type": "code",
   "execution_count": null,
   "id": "68cf4d62-a006-47f8-936b-bbfad2db15ca",
   "metadata": {},
   "outputs": [],
   "source": [
    "# 11  Perform matrix multiplication using NumPy\n",
    "\n",
    "m1 = np.array([[1,2],[3,4]])\n",
    "m2 = np.array([[5,6],[7,8]])\n",
    "result = np.dot(m1,m2)\n",
    "result\n"
   ]
  },
  {
   "cell_type": "code",
   "execution_count": null,
   "id": "5c42d68a-8729-479f-9682-e4584b68ed10",
   "metadata": {},
   "outputs": [],
   "source": [
    "# 12 Use Pandas to load a CSV file and display its first 5 rows\n",
    "\n",
    "data = pd.DataFrame({\"X\":[1,2,3,4,5],\"Y\":[10,20,30,40,50]})\n",
    "data.to_csv(\"sample.csv\", index=False)\n",
    "\n",
    "df_csv = pd.read_csv(\"sample.csv\")\n",
    "df_csv.head()\n"
   ]
  },
  {
   "cell_type": "code",
   "execution_count": null,
   "id": "37a06291-3854-4e28-aacf-a75223ef3d2b",
   "metadata": {},
   "outputs": [],
   "source": [
    "# 13  Create a 3D scatter plot using Plotly\n",
    "\n",
    "import plotly.express as px\n",
    "df3d = pd.DataFrame({\n",
    "    \"x\":[1,2,3,4,5],\n",
    "    \"y\":[10,20,30,40,50],\n",
    "    \"z\":[5,15,25,35,45]\n",
    "})\n",
    "fig = px.scatter_3d(df3d, x=\"x\", y=\"y\", z=\"z\", title=\"3D Scatter Plot\")\n",
    "fig.show()\n"
   ]
  }
 ],
 "metadata": {
  "kernelspec": {
   "display_name": "Python 3 (ipykernel)",
   "language": "python",
   "name": "python3"
  },
  "language_info": {
   "codemirror_mode": {
    "name": "ipython",
    "version": 3
   },
   "file_extension": ".py",
   "mimetype": "text/x-python",
   "name": "python",
   "nbconvert_exporter": "python",
   "pygments_lexer": "ipython3",
   "version": "3.13.7"
  }
 },
 "nbformat": 4,
 "nbformat_minor": 5
}
